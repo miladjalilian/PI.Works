{
 "cells": [
  {
   "cell_type": "code",
   "execution_count": 1,
   "metadata": {},
   "outputs": [
    {
     "name": "stdout",
     "output_type": "stream",
     "text": [
      "link part : yt5495.smart_meter.com\n",
      "link part : txh67.dia_meter.com\n",
      "link part : xcd32112.smart_meter.com\n"
     ]
    }
   ],
   "source": [
    "import re \n",
    "\n",
    "test_str = ['<url>http://yT5495.smart_meter.com</url>','<url>http://tXH67.Dia_meter.com</url>', '<url>https://xcd32112.smart_meter.com</url>']\n",
    "  \n",
    "tag = \"url\"\n",
    "  \n",
    "reg_str = \"<\" + tag + \">(.*)\"+ \"://\" + \"(.*?)\" + \"</\" +tag+ \">\"\n",
    "\n",
    "for s in test_str:\n",
    "    res = re.findall(reg_str, s)\n",
    "    if re.match(r'[a-zA-Z0-9,.,_]+$', str(res[0][1])):\n",
    "        print(\"link part : \" + str(res[0][1]).lower())"
   ]
  }
 ],
 "metadata": {
  "kernelspec": {
   "display_name": "Python 3",
   "language": "python",
   "name": "python3"
  },
  "language_info": {
   "codemirror_mode": {
    "name": "ipython",
    "version": 3
   },
   "file_extension": ".py",
   "mimetype": "text/x-python",
   "name": "python",
   "nbconvert_exporter": "python",
   "pygments_lexer": "ipython3",
   "version": "3.7.4"
  }
 },
 "nbformat": 4,
 "nbformat_minor": 2
}
